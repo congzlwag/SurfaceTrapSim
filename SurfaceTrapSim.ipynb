{
 "cells": [
  {
   "cell_type": "markdown",
   "metadata": {},
   "source": [
    "# SurfaceTrapSim"
   ]
  },
  {
   "cell_type": "code",
   "execution_count": 1,
   "metadata": {
    "scrolled": true
   },
   "outputs": [
    {
     "name": "stderr",
     "output_type": "stream",
     "text": [
      "/usr/local/lib/python2.7/dist-packages/scipy/linalg/basic.py:17: RuntimeWarning: numpy.dtype size changed, may indicate binary incompatibility. Expected 96, got 88\n",
      "  from ._solve_toeplitz import levinson\n",
      "/usr/local/lib/python2.7/dist-packages/scipy/linalg/__init__.py:207: RuntimeWarning: numpy.dtype size changed, may indicate binary incompatibility. Expected 96, got 88\n",
      "  from ._decomp_update import *\n",
      "/usr/local/lib/python2.7/dist-packages/scipy/special/__init__.py:640: RuntimeWarning: numpy.dtype size changed, may indicate binary incompatibility. Expected 96, got 88\n",
      "  from ._ufuncs import *\n",
      "/usr/local/lib/python2.7/dist-packages/scipy/special/_ellip_harm.py:7: RuntimeWarning: numpy.dtype size changed, may indicate binary incompatibility. Expected 96, got 88\n",
      "  from ._ellip_harm_2 import _ellipsoid, _ellipsoid_norm\n",
      "/usr/local/lib/python2.7/dist-packages/scipy/interpolate/_bsplines.py:10: RuntimeWarning: numpy.dtype size changed, may indicate binary incompatibility. Expected 96, got 88\n",
      "  from . import _bspl\n",
      "/usr/local/lib/python2.7/dist-packages/scipy/sparse/lil.py:19: RuntimeWarning: numpy.dtype size changed, may indicate binary incompatibility. Expected 96, got 88\n",
      "  from . import _csparsetools\n",
      "/usr/local/lib/python2.7/dist-packages/scipy/sparse/csgraph/__init__.py:165: RuntimeWarning: numpy.dtype size changed, may indicate binary incompatibility. Expected 96, got 88\n",
      "  from ._shortest_path import shortest_path, floyd_warshall, dijkstra,\\\n",
      "/usr/local/lib/python2.7/dist-packages/scipy/sparse/csgraph/_validation.py:5: RuntimeWarning: numpy.dtype size changed, may indicate binary incompatibility. Expected 96, got 88\n",
      "  from ._tools import csgraph_to_dense, csgraph_from_dense,\\\n",
      "/usr/local/lib/python2.7/dist-packages/scipy/sparse/csgraph/__init__.py:167: RuntimeWarning: numpy.dtype size changed, may indicate binary incompatibility. Expected 96, got 88\n",
      "  from ._traversal import breadth_first_order, depth_first_order, \\\n",
      "/usr/local/lib/python2.7/dist-packages/scipy/sparse/csgraph/__init__.py:169: RuntimeWarning: numpy.dtype size changed, may indicate binary incompatibility. Expected 96, got 88\n",
      "  from ._min_spanning_tree import minimum_spanning_tree\n",
      "/usr/local/lib/python2.7/dist-packages/scipy/sparse/csgraph/__init__.py:170: RuntimeWarning: numpy.dtype size changed, may indicate binary incompatibility. Expected 96, got 88\n",
      "  from ._reordering import reverse_cuthill_mckee, maximum_bipartite_matching, \\\n",
      "/usr/local/lib/python2.7/dist-packages/scipy/spatial/__init__.py:95: RuntimeWarning: numpy.dtype size changed, may indicate binary incompatibility. Expected 96, got 88\n",
      "  from .ckdtree import *\n",
      "/usr/local/lib/python2.7/dist-packages/scipy/spatial/__init__.py:96: RuntimeWarning: numpy.dtype size changed, may indicate binary incompatibility. Expected 96, got 88\n",
      "  from .qhull import *\n",
      "/usr/local/lib/python2.7/dist-packages/scipy/spatial/_spherical_voronoi.py:18: RuntimeWarning: numpy.dtype size changed, may indicate binary incompatibility. Expected 96, got 88\n",
      "  from . import _voronoi\n",
      "/usr/local/lib/python2.7/dist-packages/scipy/spatial/distance.py:122: RuntimeWarning: numpy.dtype size changed, may indicate binary incompatibility. Expected 96, got 88\n",
      "  from . import _hausdorff\n",
      "/usr/local/lib/python2.7/dist-packages/scipy/ndimage/measurements.py:36: RuntimeWarning: numpy.dtype size changed, may indicate binary incompatibility. Expected 96, got 88\n",
      "  from . import _ni_label\n",
      "/usr/local/lib/python2.7/dist-packages/scipy/optimize/_trlib/__init__.py:1: RuntimeWarning: numpy.dtype size changed, may indicate binary incompatibility. Expected 96, got 88\n",
      "  from ._trlib import TRLIBQuadraticSubproblem\n",
      "/usr/local/lib/python2.7/dist-packages/scipy/optimize/_numdiff.py:10: RuntimeWarning: numpy.dtype size changed, may indicate binary incompatibility. Expected 96, got 88\n",
      "  from ._group_columns import group_dense, group_sparse\n"
     ]
    }
   ],
   "source": [
    "from sys import path\n",
    "path.append('../')\n",
    "from SurfaceTrapSim import World, Electrode, RRPESElectrode, RectElectrode, RRPESElectrodeSH"
   ]
  },
  {
   "cell_type": "markdown",
   "metadata": {},
   "source": [
    "## World"
   ]
  },
  {
   "cell_type": "code",
   "execution_count": 2,
   "metadata": {},
   "outputs": [
    {
     "name": "stdout",
     "output_type": "stream",
     "text": [
      "\n",
      "A General, Brand New World in SI-Unit\n",
      "\n",
      "Axis convention in consistance with <class Electrode>\n",
      "\tz: axial\n",
      "\t* It doesn't matter whether z is parallel or vertical to the surface or not\n",
      "\n",
      "Attributes:\n",
      "\t__scale\t:: the typical length in meter. Length unit in the code is self.__scale meter(s)\n",
      "\tomega_rf:: the RF ANGULAR frequency\n",
      "\tm \t\t:: the mass a single ion\n",
      "\tbounds \t:: the boundaies of this world\n",
      "\tdc_electrode_list\t:: a list of (name, electrode) s of dc electrodes\n",
      "\trf_electrode_list\t:: a list of (name, electrode) s of rf electrodes\n",
      "\telectrode_dict\t\t:: dictionary that electrode_dict[name] = (\"dc\" or \"rf\", electrode)\n",
      "\t_pseudopot_factor\t:: the factor in front of the pseudopotential\n",
      "\n",
      "Methods:\n",
      "\t\n"
     ]
    }
   ],
   "source": [
    "print(World.__doc__)"
   ]
  },
  {
   "cell_type": "code",
   "execution_count": 3,
   "metadata": {},
   "outputs": [
    {
     "data": {
      "text/plain": [
       "['__doc__',\n",
       " '__init__',\n",
       " '__module__',\n",
       " 'add_electrode',\n",
       " 'check_bound',\n",
       " 'compute_dc_field',\n",
       " 'compute_dc_hessian',\n",
       " 'compute_dc_potential',\n",
       " 'compute_dc_potential_frequencies',\n",
       " 'compute_full_potential',\n",
       " 'compute_pseudopot',\n",
       " 'compute_pseudopot_frequencies',\n",
       " 'compute_pseudopot_hessian_atNULL',\n",
       " 'compute_rf_field',\n",
       " 'compute_rf_null',\n",
       " 'fit_grad_hess',\n",
       " 'local_multipole_arr',\n",
       " 'multipole_control_vdc_arr',\n",
       " 'set_volts']"
      ]
     },
     "execution_count": 3,
     "metadata": {},
     "output_type": "execute_result"
    }
   ],
   "source": [
    "dir(World)"
   ]
  },
  {
   "cell_type": "code",
   "execution_count": 4,
   "metadata": {},
   "outputs": [
    {
     "name": "stdout",
     "output_type": "stream",
     "text": [
      "\n",
      "local_multipole_arr(self, position, loc_multipoles=['C','Ex','Ey','Ez','U1','U2','U3','U4','U5'], ctrl_electrodes='alldc', r0=1)\n",
      "Parameters:\n",
      "\tposition\t\t:: a (3,) array indicating the position of interest\n",
      "\tloc_multipoles\t:: a list of multipoles that are of interest at this position\n",
      "\tctrl_electrodes :: a list of the INDICES of dc electrodes of interest\n",
      "\t\n",
      "returns the matrix, shaped (len(loc_multipoles), len(ctrl_electrodes)), that maps DC voltages on `ctrl_electrodes to `loc_multipoles at `position\n",
      "\t\t\n"
     ]
    }
   ],
   "source": [
    "print(World.local_multipole_arr.__doc__)"
   ]
  },
  {
   "cell_type": "code",
   "execution_count": 5,
   "metadata": {},
   "outputs": [
    {
     "name": "stdout",
     "output_type": "stream",
     "text": [
      "\n",
      "multipole_control_vdc_arr(self, pos_ctrl_mults, ctrl_electrodes='alldc', cost_Q='id', r0=1):\n",
      "Parameters:\n",
      "\tposition\t:: a (3,) array indicating the position of interest\n",
      "\tpos_ctrl_mults\t:: a list of (position, list of controlled local multipoles) pairs or a single pair\n",
      "\tctrl_electrodes :: a list of the INDICES of dc electrodes to be multipole-controlled\n",
      "\tcostQ  \t\t:: the positive definite matrix Q in the cost function\n",
      "\n",
      "return: The matrix, shaped (len(self.dc_electrodes), n_mult), controls DC voltages on ctrl_electrodes for pos_ctrl_mults.\n",
      "\tn_mult = sum([len(pos_ctrl_mult[1]) for pos_ctrl_mult in pos_ctrl_mults])\n",
      "\tRows that correspond to electrodes that are not multipole-controlled are padded with 0\n",
      "\t\t\n"
     ]
    }
   ],
   "source": [
    "print(World.multipole_control_vdc_arr.__doc__)"
   ]
  },
  {
   "cell_type": "markdown",
   "metadata": {},
   "source": [
    "## Electrode"
   ]
  },
  {
   "cell_type": "code",
   "execution_count": 4,
   "metadata": {},
   "outputs": [
    {
     "name": "stdout",
     "output_type": "stream",
     "text": [
      "\n",
      "General Electrode, packing a basic electrode instance in order to\n",
      "\ta. designate voltage\n",
      "\tb. expand multipoles\n",
      "\tc. unite different basic electrodes that share one terminal\n",
      "\n",
      "Conventions:\n",
      "\tAxes convention\n",
      "\t\tz: axial\n",
      "\t\t* It doesn't matter whether z is parallel or vertical to the surface or not\n",
      "\n",
      "Attributes:\n",
      "\te \t:: root basic electrode. Can be any basic electrode instance, as long as:\n",
      "\t\thasattr(e,'pot') and hasattr(e,'grad') and hasattr(e,'hessian') and hasattr(e,'expand_potential')\n",
      "\tvolt:: voltage on this (set of) electrode(s)\n",
      "\t_expand_pos\t\t:: coordinates of the expanding position\n",
      "\t_taylor_dict\t:: coefficients in the taylor expansion at expand_pos\n",
      "\t_sub_electrodes\t:: a list that incorporates other sub eletrodes\n",
      "\n",
      "Methods:\n",
      "\tpot, grad, hessian \t:: Sum over the pot, grad, hessian of the sub electrodes\n",
      "\t\n"
     ]
    }
   ],
   "source": [
    "print(Electrode.__doc__)"
   ]
  },
  {
   "cell_type": "code",
   "execution_count": 5,
   "metadata": {},
   "outputs": [
    {
     "data": {
      "text/plain": [
       "['__doc__',\n",
       " '__init__',\n",
       " '__module__',\n",
       " 'compute_d_effective',\n",
       " 'compute_electric_field',\n",
       " 'compute_hessian',\n",
       " 'compute_potential',\n",
       " 'expand_in_multipoles',\n",
       " 'extend',\n",
       " 'get_baseE',\n",
       " 'get_region_bounds',\n",
       " 'grad',\n",
       " 'hessian',\n",
       " 'pot']"
      ]
     },
     "execution_count": 5,
     "metadata": {},
     "output_type": "execute_result"
    }
   ],
   "source": [
    "dir(Electrode)"
   ]
  },
  {
   "cell_type": "code",
   "execution_count": 6,
   "metadata": {},
   "outputs": [
    {
     "name": "stdout",
     "output_type": "stream",
     "text": [
      "\n",
      "return a list of all the subelectrodes in this electrode\n",
      "\t\t\n"
     ]
    }
   ],
   "source": [
    "print(Electrode.get_baseE.__doc__)"
   ]
  },
  {
   "cell_type": "code",
   "execution_count": 7,
   "metadata": {},
   "outputs": [
    {
     "name": "stdout",
     "output_type": "stream",
     "text": [
      "\n",
      "Extend an Electrode instance in two ways:\n",
      "\tA. Providing new_elecs that hasattr(new_elecs,'pot') and hasattr(new_elecs,'grad') and hasattr(new_elecs,'hessian') and hasattr(new_elecs,'expand_potential')\n",
      "\tB. Providing a class and the corresponding initializing parameters in **kwargs\n",
      "\t\t\n"
     ]
    }
   ],
   "source": [
    "print(Electrode.extend.__doc__)"
   ]
  },
  {
   "cell_type": "markdown",
   "metadata": {},
   "source": [
    "### Base"
   ]
  },
  {
   "cell_type": "code",
   "execution_count": 8,
   "metadata": {},
   "outputs": [],
   "source": [
    "from SurfaceTrapSim.electrode import Base"
   ]
  },
  {
   "cell_type": "code",
   "execution_count": 9,
   "metadata": {},
   "outputs": [
    {
     "name": "stdout",
     "output_type": "stream",
     "text": [
      "\n",
      "Base electrode class. DON'T use outside of the submodule electrode.\n",
      "Unnecessary to have attribute multipole_dict, for class Electrode has\n",
      "\t\n"
     ]
    }
   ],
   "source": [
    "print(Base.__doc__)"
   ]
  },
  {
   "cell_type": "markdown",
   "metadata": {},
   "source": [
    "### RRPESElectrode"
   ]
  },
  {
   "cell_type": "code",
   "execution_count": 10,
   "metadata": {
    "scrolled": true
   },
   "outputs": [
    {
     "name": "stdout",
     "output_type": "stream",
     "text": [
      "\n",
      "RRPESElectrode(Base): Rectangular Region Poisson Equation Solved Electrode\n",
      "\n",
      "Attributes:\n",
      "\tlap_tol\t\t:: the Laplacian-tolerance Unit [V]/[L]^2, [L] is the length unit\n",
      "\tgvec\t\t:: grid vectors\n",
      "\t_data \t\t:: gridded potential data of this electrode\n",
      "\t_grad_data\t:: gridded potential gradient data\n",
      "\t_hess_data \t:: gridded potential hessian data\n",
      "\t_interpolant \t\t:: interpolant of _data\n",
      "\t_grad_interpolants\t:: interpolants of grad_data\n",
      "\t_hess_interpolants\t:: interpolants of hess_data\n",
      "\n",
      "For future Developer(s): If one day either 3D Akima or 3D spline is available in scipy.interpolate\n",
      "\ta. Replace the RegularGridInterpolator method here\n",
      "\tb. Translate the functions in interp_diff.m to this class\n",
      "\n",
      "Methods\n",
      "\t\n"
     ]
    }
   ],
   "source": [
    "print(RRPESElectrode.__doc__)"
   ]
  },
  {
   "cell_type": "code",
   "execution_count": 11,
   "metadata": {},
   "outputs": [
    {
     "data": {
      "text/plain": [
       "['__doc__',\n",
       " '__init__',\n",
       " '__module__',\n",
       " '_expand_pos',\n",
       " 'bounds',\n",
       " 'check_laplace',\n",
       " 'expand_potential',\n",
       " 'finite_diff',\n",
       " 'get_multipole',\n",
       " 'grad',\n",
       " 'hessdiag',\n",
       " 'hessian',\n",
       " 'interpolate',\n",
       " 'lap_tol',\n",
       " 'pot']"
      ]
     },
     "execution_count": 11,
     "metadata": {},
     "output_type": "execute_result"
    }
   ],
   "source": [
    "dir(RRPESElectrode)"
   ]
  },
  {
   "cell_type": "markdown",
   "metadata": {},
   "source": [
    "### RRPESElectrodeSH"
   ]
  },
  {
   "cell_type": "code",
   "execution_count": 12,
   "metadata": {},
   "outputs": [
    {
     "name": "stdout",
     "output_type": "stream",
     "text": [
      "\n",
      "RRPESElectrodeSH(Base): Rectangular Region Poisson Equation Solved Electrode which exploits Spherical Harmonics (SH) expansion\n",
      "attributes:\n",
      "\tgrid_n: each time when we expand the potential in SH, we use a (n_grid, n_grid, n_grid) grid in the vicinity of the interested point\n",
      "\torder: the order of SH expansion, i.e. in total there're (order+1)**2 terms in the expansion\n",
      "\tresid_dict: a dictionary recording the rms-residue in the SH expansion\n",
      "\t\n"
     ]
    }
   ],
   "source": [
    "print(RRPESElectrodeSH.__doc__)"
   ]
  },
  {
   "cell_type": "markdown",
   "metadata": {},
   "source": [
    "### RectElectrode"
   ]
  },
  {
   "cell_type": "code",
   "execution_count": 13,
   "metadata": {},
   "outputs": [
    {
     "name": "stdout",
     "output_type": "stream",
     "text": [
      "\n",
      "RectElectrode(Base): Rectangular-shaped Electrode\n",
      "\n",
      "Stems from previous gapless class:Electrode\n",
      "\n",
      "About Axis:\n",
      "\tSince it will be wrapped in class:Electrode, the third component of input coordinates must be the axial one\n",
      "\tThis is determined by `derivatives at the construction of this instance\n",
      "\n",
      "Constructing Parameters:\n",
      "\tlocation   : a 2-element list of the form [ (xmin, xmax), (ymin, ymax) ]\n",
      "\tderivatives: a dictionary whose keys at least include 'phi0', 'ddx', 'ddy', 'ddz', 'd2dx2', 'd2dz2', 'd2dxdy', 'd2dxdz', 'd2dydz'\n",
      "\t\n"
     ]
    }
   ],
   "source": [
    "print(RectElectrode.__doc__)"
   ]
  },
  {
   "cell_type": "code",
   "execution_count": null,
   "metadata": {},
   "outputs": [],
   "source": []
  }
 ],
 "metadata": {
  "kernelspec": {
   "display_name": "Python 2",
   "language": "python",
   "name": "python2"
  },
  "language_info": {
   "codemirror_mode": {
    "name": "ipython",
    "version": 2
   },
   "file_extension": ".py",
   "mimetype": "text/x-python",
   "name": "python",
   "nbconvert_exporter": "python",
   "pygments_lexer": "ipython2",
   "version": "2.7.12"
  }
 },
 "nbformat": 4,
 "nbformat_minor": 2
}
